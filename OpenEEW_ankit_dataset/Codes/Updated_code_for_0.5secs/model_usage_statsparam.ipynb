{
 "cells": [
  {
   "cell_type": "code",
   "execution_count": 1,
   "metadata": {},
   "outputs": [],
   "source": [
    "import pickle\n",
    "import pandas as pd\n",
    "import numpy as np\n",
    "\n",
    "# Load the trained model and scaler\n",
    "model_path = \"sgd_classifier_model_standardscalar.pkl\"\n",
    "scaler_path = \"scaler_standardscalar.pkl\"\n",
    "data_path = \"sliding_window_stats.csv\""
   ]
  },
  {
   "cell_type": "code",
   "execution_count": 2,
   "metadata": {},
   "outputs": [
    {
     "name": "stdout",
     "output_type": "stream",
     "text": [
      "Predictions saved to predictions_standard_scalar.csv\n"
     ]
    }
   ],
   "source": [
    "import pickle\n",
    "import pandas as pd\n",
    "\n",
    "\n",
    "# Load the trained model and scaler\n",
    "with open(model_path, \"rb\") as model_file:\n",
    "    sgd_clf = pickle.load(model_file)\n",
    "\n",
    "with open(scaler_path, \"rb\") as scaler_file:\n",
    "    scaler = pickle.load(scaler_file)\n",
    "\n",
    "# Load the dataset\n",
    "df = pd.read_csv(data_path)\n",
    "\n",
    "# Extract the feature names the scaler was trained on\n",
    "expected_features = scaler.feature_names_in_\n",
    "\n",
    "# Ensure only the expected feature columns are used\n",
    "X = df[expected_features].copy()\n",
    "\n",
    "# Handle NaN values\n",
    "X.fillna(X.mean(), inplace=True)  # Replace NaNs with column mean\n",
    "\n",
    "# Scale the features\n",
    "X_scaled = scaler.transform(X)\n",
    "\n",
    "# Make predictions\n",
    "y_pred = sgd_clf.predict(X_scaled)\n",
    "y_pred_proba = sgd_clf.predict_proba(X_scaled)[:, 1]  # Probability of class 1 (earthquake)\n",
    "\n",
    "# Add predictions to the dataframe\n",
    "df[\"Predicted Label\"] = y_pred\n",
    "df[\"Probability of Earthquake\"] = y_pred_proba\n",
    "\n",
    "# Save the results to a new CSV\n",
    "output_csv_path = \"predictions_standard_scalar.csv\"\n",
    "df.to_csv(output_csv_path, index=False)\n",
    "\n",
    "print(f\"Predictions saved to {output_csv_path}\")\n"
   ]
  }
 ],
 "metadata": {
  "kernelspec": {
   "display_name": "base",
   "language": "python",
   "name": "python3"
  },
  "language_info": {
   "codemirror_mode": {
    "name": "ipython",
    "version": 3
   },
   "file_extension": ".py",
   "mimetype": "text/x-python",
   "name": "python",
   "nbconvert_exporter": "python",
   "pygments_lexer": "ipython3",
   "version": "3.12.7"
  }
 },
 "nbformat": 4,
 "nbformat_minor": 2
}
