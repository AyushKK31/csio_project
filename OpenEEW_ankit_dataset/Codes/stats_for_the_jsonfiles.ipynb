{
 "cells": [
  {
   "cell_type": "markdown",
   "metadata": {},
   "source": [
    "CALCULATING THE STATS FOR THE JSON FILES DATED 11/02/2025\n"
   ]
  },
  {
   "cell_type": "code",
   "execution_count": 8,
   "metadata": {},
   "outputs": [
    {
     "name": "stderr",
     "output_type": "stream",
     "text": [
      "C:\\Users\\Ayush_trainee\\AppData\\Local\\Temp\\ipykernel_11616\\1375174451.py:43: DeprecationWarning: datetime.datetime.utcfromtimestamp() is deprecated and scheduled for removal in a future version. Use timezone-aware objects to represent datetimes in UTC: datetime.datetime.fromtimestamp(timestamp, datetime.UTC).\n",
      "  device_time = datetime.utcfromtimestamp(record[\"device_t\"])\n"
     ]
    },
    {
     "name": "stdout",
     "output_type": "stream",
     "text": [
      "STA/LTA statistical analysis completed and saved to CSV!\n"
     ]
    }
   ],
   "source": [
    "import os\n",
    "import json\n",
    "import numpy as np\n",
    "import pandas as pd\n",
    "from scipy.stats import skew, kurtosis, mode\n",
    "from datetime import datetime, timedelta\n",
    "from obspy.signal.trigger import classic_sta_lta\n",
    "\n",
    "# Define input and output directories\n",
    "input_root = \"AWS EARTHQUAKE DATASET\"\n",
    "output_root = \"output plot save\"\n",
    "csv_output_path = \"sta_lta_stats.csv\"\n",
    "\n",
    "# Prepare CSV storage\n",
    "columns = [\n",
    "    \"File\", \"Before Mean\", \"Before Median\", \"Before Mode\", \"Before Std Dev\", \"Before Skewness\", \"Before Kurtosis\", \"Before Variance\", \"Before Max\", \"Before Min\", \"Before Mean STA/LTA\", \"Before Max STA/LTA\",\n",
    "    \"After Mean\", \"After Median\", \"After Mode\", \"After Std Dev\", \"After Skewness\", \"After Kurtosis\", \"After Variance\", \"After Max\", \"After Min\", \"After Mean STA/LTA\", \"After Max STA/LTA\"\n",
    "]\n",
    "data_records = []\n",
    "\n",
    "# Traverse all subdirectories\n",
    "for date_folder in os.listdir(input_root):\n",
    "    date_path = os.path.join(input_root, date_folder)\n",
    "    if not os.path.isdir(date_path):  \n",
    "        continue  \n",
    "    \n",
    "    for device_folder in os.listdir(date_path):\n",
    "        device_path = os.path.join(date_path, device_folder)\n",
    "        if not os.path.isdir(device_path):\n",
    "            continue  \n",
    "        \n",
    "        for json_file in os.listdir(device_path):\n",
    "            if not json_file.endswith(\".jsonl\"):\n",
    "                continue  \n",
    "            \n",
    "            file_path = os.path.join(device_path, json_file)\n",
    "            \n",
    "            x_data, time_data = [], []\n",
    "            \n",
    "            with open(file_path, \"r\") as file:\n",
    "                for line in file:\n",
    "                    record = json.loads(line)\n",
    "                    device_time = datetime.utcfromtimestamp(record[\"device_t\"])\n",
    "                    sr = record[\"sr\"]\n",
    "                    \n",
    "                    duration = len(record[\"x\"]) / sr\n",
    "                    time_values = [device_time - timedelta(seconds=(duration - i / sr)) for i in range(len(record[\"x\"]))]\n",
    "\n",
    "                    x_data.extend(record[\"x\"])\n",
    "                    time_data.extend(time_values)\n",
    "\n",
    "            x_data = np.array(x_data)\n",
    "            time_data = np.array(time_data)\n",
    "            \n",
    "            # Compute STA/LTA\n",
    "            sta_window = int(1 * sr)\n",
    "            lta_window = int(10 * sr)\n",
    "            sta_lta_x = classic_sta_lta(x_data, sta_window, lta_window)\n",
    "            \n",
    "            # Find indices where STA/LTA exceeds threshold\n",
    "            threshold_indices = np.where(sta_lta_x >= 3)[0]\n",
    "            \n",
    "            if len(threshold_indices) == 0:\n",
    "                continue  # Skip if no exceedance\n",
    "            \n",
    "            for idx in threshold_indices:\n",
    "                before_start = max(0, idx - int(1 * sr))\n",
    "                after_end = min(len(x_data), idx + int(3 * sr))\n",
    "                \n",
    "                before_data = x_data[before_start:idx]\n",
    "                after_data = x_data[idx:after_end]\n",
    "                before_sta_lta = sta_lta_x[before_start:idx]\n",
    "                after_sta_lta = sta_lta_x[idx:after_end]\n",
    "                \n",
    "                def compute_stats(data, sta_lta):\n",
    "                    if len(data) == 0:  # Handle empty data case\n",
    "                        return [np.nan] * 11\n",
    "\n",
    "                    mode_value = mode(data, keepdims=True)[0]  # Ensure mode is always an array\n",
    "                    return [\n",
    "                            np.mean(data), np.median(data), mode_value[0] if mode_value.size > 0 else np.nan, np.std(data),\n",
    "                            skew(data), kurtosis(data), np.var(data), np.max(data), np.min(data),\n",
    "                            np.mean(sta_lta), np.max(sta_lta)\n",
    "                    ]\n",
    "\n",
    "                \n",
    "                before_stats = compute_stats(before_data, before_sta_lta)\n",
    "                after_stats = compute_stats(after_data, after_sta_lta)\n",
    "                \n",
    "                data_records.append([json_file] + before_stats + after_stats)\n",
    "\n",
    "# Save to CSV\n",
    "df = pd.DataFrame(data_records, columns=columns)\n",
    "df.to_csv(csv_output_path, index=False)\n",
    "\n",
    "print(\"STA/LTA statistical analysis completed and saved to CSV!\")\n"
   ]
  },
  {
   "cell_type": "code",
   "execution_count": null,
   "metadata": {},
   "outputs": [],
   "source": []
  },
  {
   "cell_type": "code",
   "execution_count": null,
   "metadata": {},
   "outputs": [],
   "source": []
  }
 ],
 "metadata": {
  "kernelspec": {
   "display_name": "base",
   "language": "python",
   "name": "python3"
  },
  "language_info": {
   "codemirror_mode": {
    "name": "ipython",
    "version": 3
   },
   "file_extension": ".py",
   "mimetype": "text/x-python",
   "name": "python",
   "nbconvert_exporter": "python",
   "pygments_lexer": "ipython3",
   "version": "3.12.7"
  }
 },
 "nbformat": 4,
 "nbformat_minor": 2
}
