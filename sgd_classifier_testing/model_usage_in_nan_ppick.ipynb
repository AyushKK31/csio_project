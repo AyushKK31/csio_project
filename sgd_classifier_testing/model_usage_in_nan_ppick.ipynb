{
 "cells": [
  {
   "cell_type": "code",
   "execution_count": 5,
   "metadata": {},
   "outputs": [],
   "source": [
    "import pandas as pd\n",
    "import numpy as np\n",
    "from sklearn.preprocessing import StandardScaler\n",
    "from obspy import read\n",
    "from pathlib import Path\n",
    "import joblib"
   ]
  },
  {
   "cell_type": "code",
   "execution_count": 9,
   "metadata": {},
   "outputs": [
    {
     "name": "stdout",
     "output_type": "stream",
     "text": [
      "Predictions saved to classified_earthquake_data.csv\n"
     ]
    }
   ],
   "source": [
    "import pickle\n",
    "import pandas as pd\n",
    "import numpy as np\n",
    "\n",
    "# Load the trained model from the pickle file\n",
    "with open(\"sgd_classifier_model.pkl\", \"rb\") as model_file:\n",
    "    model = pickle.load(model_file)\n",
    "\n",
    "# Load the trained StandardScaler\n",
    "with open(\"scaler.pkl\", \"rb\") as scaler_file:\n",
    "    scaler = pickle.load(scaler_file)\n",
    "\n",
    "# Load the CSV file with extracted features\n",
    "df = pd.read_csv(\"acceleration_stats_1.5sec_windows_separated_28columns.csv\")\n",
    "\n",
    "# Remove unnecessary columns (modify based on your actual column names)\n",
    "features_to_exclude = [\"File\", \"Trace ID\", \"Window Start (sec)\"]\n",
    "df_features = df.drop(columns=[col for col in features_to_exclude if col in df.columns], errors='ignore')\n",
    "\n",
    "# Handle missing values if any (fill NaNs with column means)\n",
    "df_features = df_features.fillna(df_features.mean())\n",
    "\n",
    "# Apply the same scaling used during model training\n",
    "df_scaled = scaler.transform(df_features)\n",
    "\n",
    "# Make predictions using the trained model\n",
    "predictions = model.predict(df_scaled)\n",
    "\n",
    "# Add predictions to the dataframe\n",
    "df[\"Predicted Label\"] = predictions\n",
    "\n",
    "# Save the results with predictions\n",
    "output_csv = \"classified_earthquake_data.csv\"\n",
    "df.to_csv(output_csv, index=False)\n",
    "print(f\"Predictions saved to {output_csv}\")\n"
   ]
  }
 ],
 "metadata": {
  "kernelspec": {
   "display_name": "base",
   "language": "python",
   "name": "python3"
  },
  "language_info": {
   "codemirror_mode": {
    "name": "ipython",
    "version": 3
   },
   "file_extension": ".py",
   "mimetype": "text/x-python",
   "name": "python",
   "nbconvert_exporter": "python",
   "pygments_lexer": "ipython3",
   "version": "3.12.7"
  }
 },
 "nbformat": 4,
 "nbformat_minor": 2
}
